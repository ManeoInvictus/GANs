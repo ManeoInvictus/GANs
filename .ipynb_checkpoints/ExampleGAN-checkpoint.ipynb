{
 "cells": [
  {
   "cell_type": "code",
   "execution_count": 4,
   "metadata": {
    "colab": {},
    "colab_type": "code",
    "id": "feEL5Gve9Cuj"
   },
   "outputs": [],
   "source": [
    "#!/usr/bin/env python3\n",
    "# -*- coding: utf-8 -*-\n",
    "# \"\"\"\n",
    "# Created on Fri Sept 18 2020\n",
    "\n",
    "# @author: AJay\n",
    "# \"\"\"\n",
    "\n",
    "from __future__ import absolute_import, division, print_function, unicode_literals\n",
    "import tensorflow as tf\n",
    "import numpy as np\n",
    "import os\n",
    "from tensorflow.keras import layers\n",
    "\n",
    "import time\n",
    "\n",
    "from scipy.stats.kde import gaussian_kde\n",
    "from IPython import display\n",
    "import matplotlib.pyplot as plt"
   ]
  },
  {
   "cell_type": "markdown",
   "metadata": {
    "colab_type": "text",
    "id": "45gJM2yL5DAu"
   },
   "source": [
    "Dimension of the problem and number of samples to generate."
   ]
  },
  {
   "cell_type": "code",
   "execution_count": 5,
   "metadata": {
    "colab": {},
    "colab_type": "code",
    "id": "DF3K6xYdbhUJ"
   },
   "outputs": [],
   "source": [
    "dim, nsamples = 1, 1000"
   ]
  },
  {
   "cell_type": "markdown",
   "metadata": {
    "colab_type": "text",
    "id": "YemHqI6C5MvH"
   },
   "source": [
    "Create the generator and discriminator"
   ]
  },
  {
   "cell_type": "code",
   "execution_count": 6,
   "metadata": {
    "colab": {},
    "colab_type": "code",
    "id": "fyuQyN2y71RZ"
   },
   "outputs": [],
   "source": [
    "def make_generator_model(dim):\n",
    "    model = tf.keras.Sequential()\n",
    "    model.add(layers.Dense(10, use_bias=True, input_shape=(dim,),activation='relu'))\n",
    "    model.add(layers.Dense(10, use_bias=True, activation='relu'))\n",
    "    model.add(layers.Dense(dim,use_bias=True))\n",
    "    \n",
    "    return model\n",
    "\n",
    "generator = make_generator_model(dim)\n",
    "\n",
    "def make_discriminator_model(dim):\n",
    "    model = tf.keras.Sequential()\n",
    "    model.add(layers.Dense(10, use_bias=True, input_shape=(dim,),activation='relu'))\n",
    "    model.add(layers.Dense(10, use_bias=True, activation='relu'))\n",
    "    model.add(layers.Dense(1,use_bias=True,activation='sigmoid'))\n",
    "\n",
    "    return model\n",
    "\n",
    "discriminator = make_discriminator_model(dim)"
   ]
  },
  {
   "cell_type": "code",
   "execution_count": 7,
   "metadata": {
    "colab": {
     "base_uri": "https://localhost:8080/",
     "height": 324
    },
    "colab_type": "code",
    "id": "qWyn4Hvs9egg",
    "outputId": "2b361bff-8659-457e-a073-8bfc906bde92"
   },
   "outputs": [
    {
     "name": "stdout",
     "output_type": "stream",
     "text": [
      "Generator: \n",
      "\n",
      "Failed to import pydot. You must install pydot and graphviz for `pydotprint` to work.\n"
     ]
    }
   ],
   "source": [
    "print('Generator: \\n')\n",
    "tf.keras.utils.plot_model(generator, show_shapes=True, show_layer_names=False, dpi=64)"
   ]
  },
  {
   "cell_type": "code",
   "execution_count": 8,
   "metadata": {
    "colab": {
     "base_uri": "https://localhost:8080/",
     "height": 324
    },
    "colab_type": "code",
    "id": "dPvLxERq5-hZ",
    "outputId": "d3fe330a-a8f6-48c3-edf8-1c2eb8575e28"
   },
   "outputs": [
    {
     "name": "stdout",
     "output_type": "stream",
     "text": [
      "Discriminator: \n",
      "\n",
      "Failed to import pydot. You must install pydot and graphviz for `pydotprint` to work.\n"
     ]
    }
   ],
   "source": [
    "print('Discriminator: \\n')\n",
    "tf.keras.utils.plot_model(discriminator, show_shapes=True, show_layer_names=False, dpi=64)"
   ]
  },
  {
   "cell_type": "markdown",
   "metadata": {
    "colab_type": "text",
    "id": "MfbdxPJMQTd4"
   },
   "source": [
    "# **Prior to training**"
   ]
  },
  {
   "cell_type": "code",
   "execution_count": 9,
   "metadata": {
    "colab": {
     "base_uri": "https://localhost:8080/",
     "height": 283
    },
    "colab_type": "code",
    "id": "nXHT3hAPF86V",
    "outputId": "9d45ba52-fd81-4b04-df19-091aacfd4ec5"
   },
   "outputs": [
    {
     "name": "stdout",
     "output_type": "stream",
     "text": [
      "WARNING:tensorflow:Layer dense is casting an input tensor from dtype float64 to the layer's dtype of float32, which is new behavior in TensorFlow 2.  The layer has dtype float32 because it's dtype defaults to floatx.\n",
      "\n",
      "If you intended to run this layer in float32, you can safely ignore this warning. If in doubt, this warning is likely only an issue if you are porting a TensorFlow 1.X model to TensorFlow 2.\n",
      "\n",
      "To change all layers to have dtype float64 by default, call `tf.keras.backend.set_floatx('float64')`. To change just this layer, pass dtype='float64' to the layer constructor. If you are the author of this layer, you can disable autocasting by passing autocast=False to the base Layer constructor.\n",
      "\n"
     ]
    },
    {
     "data": {
      "text/plain": [
       "<matplotlib.legend.Legend at 0x7fa59811b4d0>"
      ]
     },
     "execution_count": 9,
     "metadata": {},
     "output_type": "execute_result"
    },
    {
     "data": {
      "image/png": "[encoded data removed]",
      "text/plain": [
       "<Figure size 432x288 with 1 Axes>"
      ]
     },
     "metadata": {
      "needs_background": "light"
     },
     "output_type": "display_data"
    }
   ],
   "source": [
    "noise = np.linspace(-6,6,nsamples)\n",
    "noise = np.reshape(noise,(nsamples,1))\n",
    "\n",
    "data = np.random.normal(loc = 5, scale=1,size = nsamples)\n",
    "\n",
    "plt.figure()\n",
    "\n",
    "kde_data = gaussian_kde(data)\n",
    "data_space = np.linspace(min(data),max(data),1000)\n",
    "plt.plot(data_space,kde_data(data_space),'-b+',label=\"Data distribution\")\n",
    "\n",
    "generated_data = generator(noise,training=False)\n",
    "kde_generated = gaussian_kde(np.squeeze(generated_data.numpy()))\n",
    "generated_space = np.squeeze(np.linspace(min(generated_data),max(generated_data),1000))\n",
    "plt.plot(generated_space,kde_generated(generated_space),'g+',label=\"Generated Data\")\n",
    "\n",
    "plt.plot(noise,(1/nsamples)*np.ones_like(noise),'r+',label=\"Sample Domain\")\n",
    "plt.legend()"
   ]
  },
  {
   "cell_type": "markdown",
   "metadata": {
    "colab_type": "text",
    "id": "8XsnIhc0YzXZ"
   },
   "source": [
    "#**Losses and Optimizers**"
   ]
  },
  {
   "cell_type": "markdown",
   "metadata": {
    "colab_type": "text",
    "id": "dbPb-ibAY89h"
   },
   "source": [
    "Losses for both the networks are Binary Cross Entropy. \n",
    "\n",
    "\n",
    "*   Cost function for discriminator is\n",
    "\n",
    "\n",
    "> $$J^{(D)}(\\theta^{(D)},\\theta^{(G)}) = \\mathbb{E}_{x \\sim p_{data}}\\log D(x)+\\mathbb{E}_{z}\\log (1-D(G(z)))$$\n",
    "\n",
    "\n",
    "*   There are two possibilities for the losses of generator\n",
    "\n",
    "\n",
    ">**1. Minmax game**\n",
    ">> Simplest version, we consider\n",
    "    $$J^{(G)} = J^{(D)}$$\n",
    "    We can summarize by defining a value function as\n",
    "    $$ V(\\theta^{(D)},\\theta^{(G)}) = J^{(D)}(\\theta^{(D)},\\theta^{(G)})$$ and thus\n",
    "    $$\\theta^{(G)*}, \\theta^{(D)*} = \\arg\\min_{\\theta^{(G)}}\\max_{\\theta^{(D)}}V(\\theta^{(D)},\\theta^{(G)})$$\n",
    "\n",
    "\n",
    "\n",
    ">  **2. Heuristic, non- saturating game**\n",
    ">>The cost mentioned above is useful for theoretical analysis, but does not work well in practice as the generator's gradient vanishes when the discriminator rejects sample with high confidence. Hence we define the cost for generator as \n",
    "$$J^{(G)} = \\mathbb{E}_{z} \\log D(G(z))$$\n",
    "\n",
    "\n",
    "\n",
    "\n",
    "\n",
    "\n",
    "\n",
    "\n",
    "\n",
    "\n",
    "\n",
    "\n",
    "\n",
    "\n",
    "\n"
   ]
  },
  {
   "cell_type": "code",
   "execution_count": 10,
   "metadata": {
    "colab": {},
    "colab_type": "code",
    "id": "MUwjNf0p68I_"
   },
   "outputs": [],
   "source": [
    "# This method returns a helper function to compute cross entropy loss\n",
    "cross_entropy = tf.keras.losses.BinaryCrossentropy(from_logits=False)\n",
    "\n",
    "def discriminator_loss(real_output, fake_output):\n",
    "    real_loss = cross_entropy(tf.ones_like(real_output), real_output)\n",
    "    fake_loss = cross_entropy(tf.zeros_like(fake_output), fake_output)\n",
    "    # total_loss = real_loss + fake_loss\n",
    "    return real_loss, fake_loss\n",
    "\n",
    "def generator_loss(fake_output):\n",
    "    return cross_entropy(0.9*tf.ones_like(fake_output), fake_output)"
   ]
  },
  {
   "cell_type": "code",
   "execution_count": 11,
   "metadata": {
    "colab": {},
    "colab_type": "code",
    "id": "GH8BTgg84_g2"
   },
   "outputs": [],
   "source": [
    "def opt(lr, decay_steps=100, decay_rate=0.95, staircase=True, name=None):\n",
    "  lr = tf.keras.optimizers.schedules.ExponentialDecay(lr, decay_steps=100, decay_rate=0.95, staircase=True, name=None)\n",
    "  return tf.keras.optimizers.SGD(learning_rate=lr)"
   ]
  },
  {
   "cell_type": "code",
   "execution_count": 12,
   "metadata": {
    "colab": {},
    "colab_type": "code",
    "id": "6DBUdO9B6y0s"
   },
   "outputs": [],
   "source": [
    "lr = 0.01\n",
    "generator_optimizer = opt(lr=lr/2)\n",
    "discriminator_optimizer = opt(lr=lr)"
   ]
  },
  {
   "cell_type": "markdown",
   "metadata": {
    "colab_type": "text",
    "id": "XwsSutdeYQ8r"
   },
   "source": [
    "#**Training**"
   ]
  },
  {
   "cell_type": "markdown",
   "metadata": {
    "colab_type": "text",
    "id": "nHNPPLrLYEF9"
   },
   "source": [
    "**Training parameters**"
   ]
  },
  {
   "cell_type": "markdown",
   "metadata": {
    "colab_type": "text",
    "id": "l2-jl0EUX5pw"
   },
   "source": [
    "One step of training defined as train_step. Called by the train function defined further below."
   ]
  },
  {
   "cell_type": "code",
   "execution_count": 13,
   "metadata": {
    "colab": {},
    "colab_type": "code",
    "id": "6jf4guhz6lof"
   },
   "outputs": [],
   "source": [
    "# Notice the use of `tf.function`\n",
    "# This annotation causes the function to be \"compiled\".\n",
    "@tf.function\n",
    "def train_step():\n",
    "      # Sample noise\n",
    "      noise = np.linspace(-6,6,nsamples)\n",
    "      noise = np.reshape(noise,(nsamples,1))\n",
    "      # Sample real data\n",
    "      samples = np.random.normal(loc=5,scale=1,size=(nsamples,dim))\n",
    "      samples.sort()\n",
    "\n",
    "      # Generate samples from noise\n",
    "      generated_samples = generator(noise, training=False)\n",
    "      with tf.GradientTape() as disc_tape:\n",
    "        real_output = discriminator(samples, training=True)\n",
    "        fake_output = discriminator(generated_samples, training=True)\n",
    "\n",
    "        real_loss, fake_loss = discriminator_loss(real_output,fake_output)\n",
    "        total_disc_loss = real_loss+fake_loss\n",
    "\n",
    "      gradients_of_discriminator = disc_tape.gradient(total_disc_loss, discriminator.trainable_variables)\n",
    "      discriminator_optimizer.apply_gradients(zip(gradients_of_discriminator, discriminator.trainable_variables))\n",
    "\n",
    "      with tf.GradientTape() as gen_tape:\n",
    "        generated_samples = generator(noise, training=True)\n",
    "        fake_output = discriminator(generated_samples, training=False)\n",
    "\n",
    "        gen_loss = generator_loss(fake_output)\n",
    "\n",
    "      gradients_of_generator = gen_tape.gradient(gen_loss, generator.trainable_variables)\n",
    "      generator_optimizer.apply_gradients(zip(gradients_of_generator, generator.trainable_variables))\n",
    "      \n",
    "      return gen_loss, real_loss, fake_loss"
   ]
  },
  {
   "cell_type": "markdown",
   "metadata": {
    "colab_type": "text",
    "id": "lZ519Ww5Xx52"
   },
   "source": [
    "Function to train both the networks. \n",
    "  Executes one step of training defined by train_step for the number of epochs"
   ]
  },
  {
   "cell_type": "code",
   "execution_count": 14,
   "metadata": {
    "colab": {},
    "colab_type": "code",
    "id": "dNvLEKAY6e3W"
   },
   "outputs": [],
   "source": [
    "def train(epochs):\n",
    "\n",
    "  gen_loss_array = [] #defining empty arrays to store the losses\n",
    "  disc_real_loss_array = []\n",
    "  disc_fake_loss_array = []\n",
    "  for epoch in range(epochs):   \n",
    "    gen_loss, disc_real_loss, disc_fake_loss = train_step() #Executing one step of training\n",
    "        \n",
    "    gen_loss_array.append(gen_loss.numpy())\n",
    "    disc_real_loss_array.append(disc_real_loss.numpy())\n",
    "    disc_fake_loss_array.append(disc_fake_loss.numpy())\n",
    "\n",
    "  return gen_loss_array, disc_real_loss_array, disc_fake_loss_array"
   ]
  },
  {
   "cell_type": "markdown",
   "metadata": {
    "colab_type": "text",
    "id": "zS5Vh4EBXCG9"
   },
   "source": [
    "**Train** the network for the given input data and **EPOCHS**"
   ]
  },
  {
   "cell_type": "code",
   "execution_count": 15,
   "metadata": {
    "colab": {},
    "colab_type": "code",
    "id": "sWUALvRs6qWt"
   },
   "outputs": [],
   "source": [
    "EPOCHS = 2500"
   ]
  },
  {
   "cell_type": "code",
   "execution_count": 16,
   "metadata": {
    "colab": {},
    "colab_type": "code",
    "id": "h55jDQSe5xvV"
   },
   "outputs": [
    {
     "name": "stdout",
     "output_type": "stream",
     "text": [
      "WARNING:tensorflow:Layer dense_3 is casting an input tensor from dtype float64 to the layer's dtype of float32, which is new behavior in TensorFlow 2.  The layer has dtype float32 because it's dtype defaults to floatx.\n",
      "\n",
      "If you intended to run this layer in float32, you can safely ignore this warning. If in doubt, this warning is likely only an issue if you are porting a TensorFlow 1.X model to TensorFlow 2.\n",
      "\n",
      "To change all layers to have dtype float64 by default, call `tf.keras.backend.set_floatx('float64')`. To change just this layer, pass dtype='float64' to the layer constructor. If you are the author of this layer, you can disable autocasting by passing autocast=False to the base Layer constructor.\n",
      "\n"
     ]
    }
   ],
   "source": [
    "#Train the networks for the given \n",
    "gen_loss, disc_real_loss, disc_fake_loss = train(EPOCHS)"
   ]
  },
  {
   "cell_type": "markdown",
   "metadata": {
    "colab_type": "text",
    "id": "V9XrPpK3XrU3"
   },
   "source": [
    "#Plotting"
   ]
  },
  {
   "cell_type": "markdown",
   "metadata": {
    "colab_type": "text",
    "id": "G_8ui_LJXc6d"
   },
   "source": [
    "Plot the Generator and Discriminator losses."
   ]
  },
  {
   "cell_type": "code",
   "execution_count": 17,
   "metadata": {
    "colab": {
     "base_uri": "https://localhost:8080/",
     "height": 283
    },
    "colab_type": "code",
    "id": "CHqmXX0p5sJn",
    "outputId": "bd3ad1bb-a6ec-4867-bc6e-39b7cf4a57b5"
   },
   "outputs": [
    {
     "data": {
      "text/plain": [
       "<matplotlib.legend.Legend at 0x7fa568cddf10>"
      ]
     },
     "execution_count": 17,
     "metadata": {},
     "output_type": "execute_result"
    },
    {
     "data": {
      "image/png": "[encoded data removed]",
      "text/plain": [
       "<Figure size 432x288 with 1 Axes>"
      ]
     },
     "metadata": {
      "needs_background": "light"
     },
     "output_type": "display_data"
    }
   ],
   "source": [
    "plt.figure()\n",
    "plt.plot(gen_loss,'g',label='Generator loss')\n",
    "plt.plot(disc_real_loss,'b',label='Discriminator real loss')\n",
    "plt.plot(disc_fake_loss,'r',label='Discriminator fake loss')\n",
    "plt.legend()"
   ]
  },
  {
   "cell_type": "markdown",
   "metadata": {
    "colab_type": "text",
    "id": "Pjo7yCvnXix3"
   },
   "source": [
    "Plot the training and generated samples."
   ]
  },
  {
   "cell_type": "code",
   "execution_count": 18,
   "metadata": {
    "colab": {
     "base_uri": "https://localhost:8080/",
     "height": 283
    },
    "colab_type": "code",
    "id": "FTUau3pp5kCG",
    "outputId": "ff3ff912-cb36-4160-b868-ca28a56fc73d"
   },
   "outputs": [
    {
     "data": {
      "text/plain": [
       "<matplotlib.legend.Legend at 0x7fa568bd2850>"
      ]
     },
     "execution_count": 18,
     "metadata": {},
     "output_type": "execute_result"
    },
    {
     "data": {
      "image/png": "[encoded data removed]",
      "text/plain": [
       "<Figure size 432x288 with 1 Axes>"
      ]
     },
     "metadata": {
      "needs_background": "light"
     },
     "output_type": "display_data"
    }
   ],
   "source": [
    "sample_uniform = np.linspace(-6,6,nsamples)\n",
    "sample_uniform = np.reshape(sample_uniform,(nsamples,1))\n",
    "\n",
    "sample_normal = np.random.normal(loc = 3, scale=1,size = nsamples)\n",
    "\n",
    "plt.figure()\n",
    "\n",
    "kde_normal = gaussian_kde(sample_normal)\n",
    "s_space = np.linspace(min(sample_normal),max(sample_normal),1000)\n",
    "plt.plot(s_space,kde_normal(s_space),'-b+',label=\"Training Data\")\n",
    "\n",
    "generated_sample = generator(sample_uniform,training=False)\n",
    "kde_generated = gaussian_kde(np.squeeze(generated_sample.numpy()))\n",
    "s_sample = np.squeeze(np.linspace(min(generated_sample),max(generated_sample),1000))\n",
    "plt.plot(s_sample,kde_generated(s_sample),'g+',label=\"Generated Data\")\n",
    "\n",
    "plt.plot(sample_uniform,(1/nsamples)*np.ones_like(sample_uniform),'r+',label=\"Uniform Data\")\n",
    "plt.legend()"
   ]
  },
  {
   "cell_type": "code",
   "execution_count": 19,
   "metadata": {
    "colab": {
     "base_uri": "https://localhost:8080/",
     "height": 265
    },
    "colab_type": "code",
    "id": "oXZFKdfc9gKm",
    "outputId": "7c87ae24-b898-4808-db3e-a163292ad23f"
   },
   "outputs": [
    {
     "data": {
      "image/png": "[encoded data removed]",
      "text/plain": [
       "<Figure size 432x288 with 1 Axes>"
      ]
     },
     "metadata": {
      "needs_background": "light"
     },
     "output_type": "display_data"
    }
   ],
   "source": [
    "_ = plt.hist(sample_normal)"
   ]
  },
  {
   "cell_type": "code",
   "execution_count": 20,
   "metadata": {
    "colab": {
     "base_uri": "https://localhost:8080/",
     "height": 265
    },
    "colab_type": "code",
    "id": "R58X8ECQ-w7R",
    "outputId": "7f84d5ad-cf83-4ee4-edbf-f7227d30dd1f"
   },
   "outputs": [
    {
     "data": {
      "image/png": "[encoded data removed]",
      "text/plain": [
       "<Figure size 432x288 with 1 Axes>"
      ]
     },
     "metadata": {
      "needs_background": "light"
     },
     "output_type": "display_data"
    }
   ],
   "source": [
    "_ = plt.hist(sample_uniform)"
   ]
  },
  {
   "cell_type": "code",
   "execution_count": 21,
   "metadata": {
    "colab": {
     "base_uri": "https://localhost:8080/",
     "height": 265
    },
    "colab_type": "code",
    "id": "NH2SvMW5CH_l",
    "outputId": "5be7b804-f6b2-4bc4-cf8c-ac44af5b15d2"
   },
   "outputs": [
    {
     "data": {
      "image/png": "[encoded data removed]",
      "text/plain": [
       "<Figure size 432x288 with 1 Axes>"
      ]
     },
     "metadata": {
      "needs_background": "light"
     },
     "output_type": "display_data"
    }
   ],
   "source": [
    "_ = plt.hist(generated_sample.numpy())"
   ]
  }
 ],
 "metadata": {
  "colab": {
   "collapsed_sections": [],
   "name": "ExampleGAN.ipynb",
   "provenance": []
  },
  "kernelspec": {
   "display_name": "Python 3",
   "language": "python",
   "name": "python3"
  },
  "language_info": {
   "codemirror_mode": {
    "name": "ipython",
    "version": 3
   },
   "file_extension": ".py",
   "mimetype": "text/x-python",
   "name": "python",
   "nbconvert_exporter": "python",
   "pygments_lexer": "ipython3",
   "version": "3.7.6"
  }
 },
 "nbformat": 4,
 "nbformat_minor": 1
}
